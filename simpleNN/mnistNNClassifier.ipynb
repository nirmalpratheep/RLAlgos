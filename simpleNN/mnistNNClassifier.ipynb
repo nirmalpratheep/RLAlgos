{
 "cells": [
  {
   "cell_type": "code",
   "execution_count": 1,
   "metadata": {},
   "outputs": [
    {
     "name": "stdout",
     "output_type": "stream",
     "text": [
      "Downloading http://fashion-mnist.s3-website.eu-central-1.amazonaws.com/train-images-idx3-ubyte.gz\n",
      "Downloading http://fashion-mnist.s3-website.eu-central-1.amazonaws.com/train-images-idx3-ubyte.gz to data\\FashionMNIST\\raw\\train-images-idx3-ubyte.gz\n"
     ]
    },
    {
     "name": "stderr",
     "output_type": "stream",
     "text": [
      "100.0%\n"
     ]
    },
    {
     "name": "stdout",
     "output_type": "stream",
     "text": [
      "Extracting data\\FashionMNIST\\raw\\train-images-idx3-ubyte.gz to data\\FashionMNIST\\raw\n",
      "\n",
      "Downloading http://fashion-mnist.s3-website.eu-central-1.amazonaws.com/train-labels-idx1-ubyte.gz\n",
      "Downloading http://fashion-mnist.s3-website.eu-central-1.amazonaws.com/train-labels-idx1-ubyte.gz to data\\FashionMNIST\\raw\\train-labels-idx1-ubyte.gz\n"
     ]
    },
    {
     "name": "stderr",
     "output_type": "stream",
     "text": [
      "100.0%\n"
     ]
    },
    {
     "name": "stdout",
     "output_type": "stream",
     "text": [
      "Extracting data\\FashionMNIST\\raw\\train-labels-idx1-ubyte.gz to data\\FashionMNIST\\raw\n",
      "\n",
      "Downloading http://fashion-mnist.s3-website.eu-central-1.amazonaws.com/t10k-images-idx3-ubyte.gz\n",
      "Downloading http://fashion-mnist.s3-website.eu-central-1.amazonaws.com/t10k-images-idx3-ubyte.gz to data\\FashionMNIST\\raw\\t10k-images-idx3-ubyte.gz\n"
     ]
    },
    {
     "name": "stderr",
     "output_type": "stream",
     "text": [
      "100.0%\n"
     ]
    },
    {
     "name": "stdout",
     "output_type": "stream",
     "text": [
      "Extracting data\\FashionMNIST\\raw\\t10k-images-idx3-ubyte.gz to data\\FashionMNIST\\raw\n",
      "\n",
      "Downloading http://fashion-mnist.s3-website.eu-central-1.amazonaws.com/t10k-labels-idx1-ubyte.gz\n",
      "Downloading http://fashion-mnist.s3-website.eu-central-1.amazonaws.com/t10k-labels-idx1-ubyte.gz to data\\FashionMNIST\\raw\\t10k-labels-idx1-ubyte.gz\n"
     ]
    },
    {
     "name": "stderr",
     "output_type": "stream",
     "text": [
      "100.0%"
     ]
    },
    {
     "name": "stdout",
     "output_type": "stream",
     "text": [
      "Extracting data\\FashionMNIST\\raw\\t10k-labels-idx1-ubyte.gz to data\\FashionMNIST\\raw\n",
      "\n"
     ]
    },
    {
     "name": "stderr",
     "output_type": "stream",
     "text": [
      "\n"
     ]
    }
   ],
   "source": [
    "import torch\n",
    "from torch import nn\n",
    "from torch.utils.data import DataLoader\n",
    "from torchvision import datasets\n",
    "from torchvision.transforms import ToTensor\n",
    "\n",
    "training_data = datasets.FashionMNIST(\n",
    "    root=\"data\",\n",
    "    train=True,\n",
    "    download=True,\n",
    "    transform=ToTensor()\n",
    ")\n",
    "\n",
    "test_data = datasets.FashionMNIST(\n",
    "    root=\"data\",\n",
    "    train=False,\n",
    "    download=True,\n",
    "    transform=ToTensor()\n",
    ")\n",
    "\n",
    "train_dataloader = DataLoader(training_data, batch_size=64)\n",
    "test_dataloader = DataLoader(test_data, batch_size=64)\n",
    "\n",
    "class NeuralNetwork(nn.Module):\n",
    "    def __init__(self):\n",
    "        super().__init__()\n",
    "        self.flatten = nn.Flatten()\n",
    "        self.linear_relu_stack = nn.Sequential(\n",
    "            nn.Linear(28*28, 512),\n",
    "            nn.ReLU(),\n",
    "            nn.Linear(512, 512),\n",
    "            nn.ReLU(),\n",
    "            nn.Linear(512, 10),\n",
    "        )\n",
    "\n",
    "    def forward(self, x):\n",
    "        x = self.flatten(x)\n",
    "        logits = self.linear_relu_stack(x)\n",
    "        return logits\n",
    "\n",
    "model = NeuralNetwork()"
   ]
  },
  {
   "cell_type": "code",
   "execution_count": 2,
   "metadata": {},
   "outputs": [],
   "source": [
    "learning_rate = 1e-3\n",
    "batch_size = 64\n",
    "epochs = 5"
   ]
  },
  {
   "cell_type": "code",
   "execution_count": 3,
   "metadata": {},
   "outputs": [],
   "source": [
    "def train_loop(dataloader, model, loss_fn, optimizer):\n",
    "    size = len(dataloader.dataset)\n",
    "    # Set the model to training mode - important for batch normalization and dropout layers\n",
    "    # Unnecessary in this situation but added for best practices\n",
    "    model.train()\n",
    "    for batch, (X, y) in enumerate(dataloader):\n",
    "        # Compute prediction and loss\n",
    "        pred = model(X)\n",
    "        loss = loss_fn(pred, y)\n",
    "\n",
    "        # Backpropagation\n",
    "        loss.backward()\n",
    "        optimizer.step()\n",
    "        optimizer.zero_grad()\n",
    "\n",
    "        if batch % 100 == 0:\n",
    "            loss, current = loss.item(), batch * batch_size + len(X)\n",
    "            print(f\"loss: {loss:>7f}  [{current:>5d}/{size:>5d}]\")\n",
    "\n",
    "\n",
    "def test_loop(dataloader, model, loss_fn):\n",
    "    # Set the model to evaluation mode - important for batch normalization and dropout layers\n",
    "    # Unnecessary in this situation but added for best practices\n",
    "    model.eval()\n",
    "    size = len(dataloader.dataset)\n",
    "    num_batches = len(dataloader)\n",
    "    test_loss, correct = 0, 0\n",
    "\n",
    "    # Evaluating the model with torch.no_grad() ensures that no gradients are computed during test mode\n",
    "    # also serves to reduce unnecessary gradient computations and memory usage for tensors with requires_grad=True\n",
    "    with torch.no_grad():\n",
    "        for X, y in dataloader:\n",
    "            pred = model(X)\n",
    "            test_loss += loss_fn(pred, y).item()\n",
    "            correct += (pred.argmax(1) == y).type(torch.float).sum().item()\n",
    "\n",
    "    test_loss /= num_batches\n",
    "    correct /= size\n",
    "    print(f\"Test Error: \\n Accuracy: {(100*correct):>0.1f}%, Avg loss: {test_loss:>8f} \\n\")"
   ]
  },
  {
   "cell_type": "code",
   "execution_count": 4,
   "metadata": {},
   "outputs": [
    {
     "name": "stdout",
     "output_type": "stream",
     "text": [
      "Epoch 1\n",
      "-------------------------------\n",
      "loss: 2.303684  [   64/60000]\n",
      "loss: 2.292012  [ 6464/60000]\n",
      "loss: 2.274794  [12864/60000]\n",
      "loss: 2.274753  [19264/60000]\n",
      "loss: 2.237382  [25664/60000]\n",
      "loss: 2.209496  [32064/60000]\n",
      "loss: 2.220886  [38464/60000]\n",
      "loss: 2.182544  [44864/60000]\n",
      "loss: 2.182629  [51264/60000]\n",
      "loss: 2.151269  [57664/60000]\n",
      "Test Error: \n",
      " Accuracy: 45.1%, Avg loss: 2.144002 \n",
      "\n",
      "Epoch 2\n",
      "-------------------------------\n",
      "loss: 2.147478  [   64/60000]\n",
      "loss: 2.138114  [ 6464/60000]\n",
      "loss: 2.082104  [12864/60000]\n",
      "loss: 2.113425  [19264/60000]\n",
      "loss: 2.037954  [25664/60000]\n",
      "loss: 1.984195  [32064/60000]\n",
      "loss: 2.008742  [38464/60000]\n",
      "loss: 1.926533  [44864/60000]\n",
      "loss: 1.931635  [51264/60000]\n",
      "loss: 1.861755  [57664/60000]\n",
      "Test Error: \n",
      " Accuracy: 58.5%, Avg loss: 1.858269 \n",
      "\n",
      "Epoch 3\n",
      "-------------------------------\n",
      "loss: 1.881875  [   64/60000]\n",
      "loss: 1.853161  [ 6464/60000]\n",
      "loss: 1.736061  [12864/60000]\n",
      "loss: 1.796193  [19264/60000]\n",
      "loss: 1.662949  [25664/60000]\n",
      "loss: 1.624097  [32064/60000]\n",
      "loss: 1.642202  [38464/60000]\n",
      "loss: 1.544733  [44864/60000]\n",
      "loss: 1.571262  [51264/60000]\n",
      "loss: 1.473887  [57664/60000]\n",
      "Test Error: \n",
      " Accuracy: 61.7%, Avg loss: 1.486039 \n",
      "\n",
      "Epoch 4\n",
      "-------------------------------\n",
      "loss: 1.548475  [   64/60000]\n",
      "loss: 1.514187  [ 6464/60000]\n",
      "loss: 1.364645  [12864/60000]\n",
      "loss: 1.454327  [19264/60000]\n",
      "loss: 1.318205  [25664/60000]\n",
      "loss: 1.323620  [32064/60000]\n",
      "loss: 1.338034  [38464/60000]\n",
      "loss: 1.262668  [44864/60000]\n",
      "loss: 1.301337  [51264/60000]\n",
      "loss: 1.214763  [57664/60000]\n",
      "Test Error: \n",
      " Accuracy: 63.4%, Avg loss: 1.227341 \n",
      "\n",
      "Epoch 5\n",
      "-------------------------------\n",
      "loss: 1.302959  [   64/60000]\n",
      "loss: 1.282956  [ 6464/60000]\n",
      "loss: 1.116600  [12864/60000]\n",
      "loss: 1.239282  [19264/60000]\n",
      "loss: 1.101497  [25664/60000]\n",
      "loss: 1.131117  [32064/60000]\n",
      "loss: 1.155965  [38464/60000]\n",
      "loss: 1.090659  [44864/60000]\n",
      "loss: 1.134465  [51264/60000]\n",
      "loss: 1.064125  [57664/60000]\n",
      "Test Error: \n",
      " Accuracy: 64.5%, Avg loss: 1.069438 \n",
      "\n",
      "Epoch 6\n",
      "-------------------------------\n",
      "loss: 1.140932  [   64/60000]\n",
      "loss: 1.139821  [ 6464/60000]\n",
      "loss: 0.956092  [12864/60000]\n",
      "loss: 1.106702  [19264/60000]\n",
      "loss: 0.970487  [25664/60000]\n",
      "loss: 1.002662  [32064/60000]\n",
      "loss: 1.043733  [38464/60000]\n",
      "loss: 0.983126  [44864/60000]\n",
      "loss: 1.026408  [51264/60000]\n",
      "loss: 0.969587  [57664/60000]\n",
      "Test Error: \n",
      " Accuracy: 65.8%, Avg loss: 0.968437 \n",
      "\n",
      "Epoch 7\n",
      "-------------------------------\n",
      "loss: 1.028889  [   64/60000]\n",
      "loss: 1.047532  [ 6464/60000]\n",
      "loss: 0.847100  [12864/60000]\n",
      "loss: 1.018912  [19264/60000]\n",
      "loss: 0.887775  [25664/60000]\n",
      "loss: 0.912787  [32064/60000]\n",
      "loss: 0.970196  [38464/60000]\n",
      "loss: 0.914029  [44864/60000]\n",
      "loss: 0.952510  [51264/60000]\n",
      "loss: 0.906091  [57664/60000]\n",
      "Test Error: \n",
      " Accuracy: 67.0%, Avg loss: 0.899909 \n",
      "\n",
      "Epoch 8\n",
      "-------------------------------\n",
      "loss: 0.946948  [   64/60000]\n",
      "loss: 0.983430  [ 6464/60000]\n",
      "loss: 0.769219  [12864/60000]\n",
      "loss: 0.956866  [19264/60000]\n",
      "loss: 0.832169  [25664/60000]\n",
      "loss: 0.847173  [32064/60000]\n",
      "loss: 0.918503  [38464/60000]\n",
      "loss: 0.867810  [44864/60000]\n",
      "loss: 0.899285  [51264/60000]\n",
      "loss: 0.859722  [57664/60000]\n",
      "Test Error: \n",
      " Accuracy: 68.1%, Avg loss: 0.850454 \n",
      "\n",
      "Epoch 9\n",
      "-------------------------------\n",
      "loss: 0.883832  [   64/60000]\n",
      "loss: 0.935040  [ 6464/60000]\n",
      "loss: 0.710680  [12864/60000]\n",
      "loss: 0.910623  [19264/60000]\n",
      "loss: 0.792077  [25664/60000]\n",
      "loss: 0.797474  [32064/60000]\n",
      "loss: 0.879152  [38464/60000]\n",
      "loss: 0.835366  [44864/60000]\n",
      "loss: 0.859023  [51264/60000]\n",
      "loss: 0.823398  [57664/60000]\n",
      "Test Error: \n",
      " Accuracy: 69.4%, Avg loss: 0.812601 \n",
      "\n",
      "Epoch 10\n",
      "-------------------------------\n",
      "loss: 0.832811  [   64/60000]\n",
      "loss: 0.895625  [ 6464/60000]\n",
      "loss: 0.664581  [12864/60000]\n",
      "loss: 0.874355  [19264/60000]\n",
      "loss: 0.761304  [25664/60000]\n",
      "loss: 0.758924  [32064/60000]\n",
      "loss: 0.847049  [38464/60000]\n",
      "loss: 0.810940  [44864/60000]\n",
      "loss: 0.827103  [51264/60000]\n",
      "loss: 0.793887  [57664/60000]\n",
      "Test Error: \n",
      " Accuracy: 70.8%, Avg loss: 0.782169 \n",
      "\n",
      "Done!\n"
     ]
    }
   ],
   "source": [
    "loss_fn = nn.CrossEntropyLoss()\n",
    "optimizer = torch.optim.SGD(model.parameters(), lr=learning_rate)\n",
    "\n",
    "epochs = 10\n",
    "for t in range(epochs):\n",
    "    print(f\"Epoch {t+1}\\n-------------------------------\")\n",
    "    train_loop(train_dataloader, model, loss_fn, optimizer)\n",
    "    test_loop(test_dataloader, model, loss_fn)\n",
    "print(\"Done!\")"
   ]
  },
  {
   "cell_type": "code",
   "execution_count": null,
   "metadata": {},
   "outputs": [],
   "source": []
  }
 ],
 "metadata": {
  "kernelspec": {
   "display_name": "myenv",
   "language": "python",
   "name": "python3"
  },
  "language_info": {
   "codemirror_mode": {
    "name": "ipython",
    "version": 3
   },
   "file_extension": ".py",
   "mimetype": "text/x-python",
   "name": "python",
   "nbconvert_exporter": "python",
   "pygments_lexer": "ipython3",
   "version": "3.12.8"
  }
 },
 "nbformat": 4,
 "nbformat_minor": 2
}
